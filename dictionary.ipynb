{
  "nbformat": 4,
  "nbformat_minor": 0,
  "metadata": {
    "colab": {
      "provenance": [],
      "toc_visible": true,
      "authorship_tag": "ABX9TyM6O+CI6gP1qfxvln9UzF4z",
      "include_colab_link": true
    },
    "kernelspec": {
      "name": "python3",
      "display_name": "Python 3"
    },
    "language_info": {
      "name": "python"
    }
  },
  "cells": [
    {
      "cell_type": "markdown",
      "metadata": {
        "id": "view-in-github",
        "colab_type": "text"
      },
      "source": [
        "<a href=\"https://colab.research.google.com/github/ebru-95/Test2/blob/main/dictionary.ipynb\" target=\"_parent\"><img src=\"https://colab.research.google.com/assets/colab-badge.svg\" alt=\"Open In Colab\"/></a>"
      ]
    },
    {
      "cell_type": "code",
      "execution_count": 1,
      "metadata": {
        "id": "UkfFvJMqXvlJ"
      },
      "outputs": [],
      "source": []
    },
    {
      "cell_type": "code",
      "source": [],
      "metadata": {
        "id": "A963z9KIh17_"
      },
      "execution_count": null,
      "outputs": []
    },
    {
      "cell_type": "code",
      "source": [
        "# Question 1:\n",
        "\n",
        "# Getting input from the user\n",
        "a = int(input(\"Enter the first number (a): \"))\n",
        "b = int(input(\"Enter the second number (b): \"))\n",
        "\n",
        "\n",
        "sum_result = a + b\n",
        "multiplication_result = a * b\n",
        "division_result = a // b  # Using floor division to get an integer result\n",
        "\n",
        "\n",
        "print(\"\\nResults:\")\n",
        "print(f\"Sum is {sum_result}\")\n",
        "print(f\"Multiplication is {multiplication_result}\")\n",
        "print(f\"Division is {division_result}\")\n",
        "\n",
        "\n",
        "\n",
        "# Question 2: Convert days into seconds\n",
        "\n",
        "# Getting input from the user\n",
        "days = int(input(\"\\nEnter the number of days: \"))\n",
        "\n",
        "# Calculating the number of seconds\n",
        "seconds = days * 24 * 60 * 60  # 24 hours, 60 minutes per hour, 60 seconds per minute\n",
        "\n",
        "# Displaying the result\n",
        "print(f\"{days} days have {seconds} seconds\")"
      ],
      "metadata": {
        "colab": {
          "base_uri": "https://localhost:8080/"
        },
        "id": "lBtLknx50OT3",
        "outputId": "19681c73-b6a4-4c32-edc4-6930793d8c15"
      },
      "execution_count": 1,
      "outputs": [
        {
          "output_type": "stream",
          "name": "stdout",
          "text": [
            "Enter the first number (a): 40\n",
            "Enter the second number (b): 90\n",
            "\n",
            "Results:\n",
            "Sum is 130\n",
            "Multiplication is 3600\n",
            "Division is 0\n",
            "\n",
            "Enter the number of days: 10\n",
            "10 days have 864000 seconds\n"
          ]
        }
      ]
    },
    {
      "cell_type": "markdown",
      "source": [],
      "metadata": {
        "id": "yHLw3Re6bUVs"
      }
    },
    {
      "cell_type": "markdown",
      "source": [
        "# New Section"
      ],
      "metadata": {
        "id": "ae6phhslboJL"
      }
    },
    {
      "cell_type": "markdown",
      "source": [
        "You have a list of integers. Write a function in python to return the frequency of each number in the list."
      ],
      "metadata": {
        "id": "16Lcs7rZbr38"
      }
    },
    {
      "cell_type": "code",
      "source": [
        "from collections import Counter\n",
        "\n",
        "def frequency_counter(numbers):\n",
        "    return dict(Counter(numbers))\n",
        "\n",
        "# Test listesi\n",
        "numbers = [10, 40, 50, 10, 40, 10]\n",
        "result = frequency_counter(numbers)\n",
        "\n",
        "print(result)\n",
        "#dictionary"
      ],
      "metadata": {
        "colab": {
          "base_uri": "https://localhost:8080/"
        },
        "id": "ZlcWh8Iebs6k",
        "outputId": "09c505ef-e432-44fd-f833-1a3e717b5cf7"
      },
      "execution_count": 2,
      "outputs": [
        {
          "output_type": "stream",
          "name": "stdout",
          "text": [
            "{10: 3, 40: 2, 50: 1}\n"
          ]
        }
      ]
    }
  ]
}