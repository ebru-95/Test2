{
  "nbformat": 4,
  "nbformat_minor": 0,
  "metadata": {
    "colab": {
      "provenance": [],
      "toc_visible": true,
      "authorship_tag": "ABX9TyMRJsPdQidyPpCsv7EQubFx",
      "include_colab_link": true
    },
    "kernelspec": {
      "name": "python3",
      "display_name": "Python 3"
    },
    "language_info": {
      "name": "python"
    }
  },
  "cells": [
    {
      "cell_type": "markdown",
      "metadata": {
        "id": "view-in-github",
        "colab_type": "text"
      },
      "source": [
        "<a href=\"https://colab.research.google.com/github/ebru-95/Test2/blob/main/frequency_list.ipynb\" target=\"_parent\"><img src=\"https://colab.research.google.com/assets/colab-badge.svg\" alt=\"Open In Colab\"/></a>"
      ]
    },
    {
      "cell_type": "code",
      "execution_count": 1,
      "metadata": {
        "id": "UkfFvJMqXvlJ"
      },
      "outputs": [],
      "source": []
    },
    {
      "cell_type": "code",
      "source": [],
      "metadata": {
        "id": "A963z9KIh17_"
      },
      "execution_count": null,
      "outputs": []
    },
    {
      "cell_type": "markdown",
      "source": [],
      "metadata": {
        "id": "yHLw3Re6bUVs"
      }
    },
    {
      "cell_type": "markdown",
      "source": [
        "# New Section"
      ],
      "metadata": {
        "id": "ae6phhslboJL"
      }
    },
    {
      "cell_type": "markdown",
      "source": [
        "frequency each number in the list"
      ],
      "metadata": {
        "id": "tR1lKYxid_va"
      }
    },
    {
      "cell_type": "code",
      "source": [
        "from collections import Counter\n",
        "\n",
        "def frequency_counter(numbers):\n",
        "    return dict(Counter(numbers))\n",
        "\n",
        "# test list\n",
        "numbers = [10, 40, 50, 10, 40, 10]\n",
        "result = frequency_counter(numbers)\n",
        "\n",
        "print(result)"
      ],
      "metadata": {
        "colab": {
          "base_uri": "https://localhost:8080/"
        },
        "id": "wAe9XwZ5dlSb",
        "outputId": "c94a1322-abee-49e6-ed82-930202e40b02"
      },
      "execution_count": 3,
      "outputs": [
        {
          "output_type": "stream",
          "name": "stdout",
          "text": [
            "{10: 3, 40: 2, 50: 1}\n"
          ]
        }
      ]
    },
    {
      "cell_type": "markdown",
      "source": [
        "# New Section"
      ],
      "metadata": {
        "id": "mGJF9-qddeRX"
      }
    },
    {
      "cell_type": "markdown",
      "source": [
        "You have a list of integers. Write a function in python to return the frequency of each number in the list."
      ],
      "metadata": {
        "id": "16Lcs7rZbr38"
      }
    }
  ]
}